{
  "nbformat": 4,
  "nbformat_minor": 0,
  "metadata": {
    "colab": {
      "provenance": [],
      "authorship_tag": "ABX9TyPvDT01aSyyrCK4MFIMbgBb",
      "include_colab_link": true
    },
    "kernelspec": {
      "name": "python3",
      "display_name": "Python 3"
    },
    "language_info": {
      "name": "python"
    }
  },
  "cells": [
    {
      "cell_type": "markdown",
      "metadata": {
        "id": "view-in-github",
        "colab_type": "text"
      },
      "source": [
        "<a href=\"https://colab.research.google.com/github/matildecanete/proyecto1/blob/main/Diccionario_de_datos.ipynb\" target=\"_parent\"><img src=\"https://colab.research.google.com/assets/colab-badge.svg\" alt=\"Open In Colab\"/></a>"
      ]
    },
    {
      "cell_type": "markdown",
      "source": [
        "Descripción de las variables del conjunto de datos."
      ],
      "metadata": {
        "id": "KEfzT8L-_QeR"
      }
    },
    {
      "cell_type": "markdown",
      "source": [
        "- Item_Identifier\n",
        "\n",
        ">Identificación única del producto.\n",
        "\n",
        "\n"
      ],
      "metadata": {
        "id": "hu3J4fby97Nc"
      }
    },
    {
      "cell_type": "markdown",
      "source": [
        "- Item_Weight\n",
        "\n",
        ">Peso del producto."
      ],
      "metadata": {
        "id": "ZuyfxT5z-UFZ"
      }
    },
    {
      "cell_type": "markdown",
      "source": [
        "- Item_Fat_Content\n",
        "\n",
        ">Si el producto es bajo en grasa o regular."
      ],
      "metadata": {
        "id": "5B1VDrq7-VlZ"
      }
    },
    {
      "cell_type": "markdown",
      "source": [
        "- Item_Visibility\n",
        "\n",
        ">El porcentaje de la superficie total de exposición de todos los productos de una tienda asignada al producto concreto."
      ],
      "metadata": {
        "id": "hLVHU0QL-afK"
      }
    },
    {
      "cell_type": "markdown",
      "source": [
        "- Item_Type\n",
        "\n",
        ">La categoría a la que el producto pertenece."
      ],
      "metadata": {
        "id": "Lh_6ds-F-jTg"
      }
    },
    {
      "cell_type": "markdown",
      "source": [
        "- Item_MRP\n",
        "\n",
        ">Precio máximo de venta al público (precio de catálogo) del producto."
      ],
      "metadata": {
        "id": "RLAwM7OO-mRy"
      }
    },
    {
      "cell_type": "markdown",
      "source": [
        "- Outlet_Identifier\n",
        "\n",
        ">Identificación única de la tienda."
      ],
      "metadata": {
        "id": "fZpBtWo_-tdZ"
      }
    },
    {
      "cell_type": "markdown",
      "source": [
        "- Outlet_Establishment_Year\n",
        "\n",
        ">El año cuando se estableció la tienda."
      ],
      "metadata": {
        "id": "21BzNT_U-wUd"
      }
    },
    {
      "cell_type": "markdown",
      "source": [
        "- Outlet_Size\n",
        "\n",
        ">El tamaño de la tienda con respecto a la superficie."
      ],
      "metadata": {
        "id": "MAEyFaZM-01Z"
      }
    },
    {
      "cell_type": "markdown",
      "source": [
        "- Outlet_Location_Type\n",
        "\n",
        ">El tipo de área donde está ubicada la tienda."
      ],
      "metadata": {
        "id": "6xK33iKf-5vh"
      }
    },
    {
      "cell_type": "markdown",
      "source": [
        "- Outlet_Type\n",
        "\n",
        ">Si el marcado es un almacén o algún tipo de supermercado."
      ],
      "metadata": {
        "id": "Yu5HEWq5-8qk"
      }
    },
    {
      "cell_type": "markdown",
      "source": [
        "- Item_Outlet_Sales\n",
        "\n",
        ">Ventas del producto en la tienda particular. Es la variable objetivo a predecir."
      ],
      "metadata": {
        "id": "29Jv2ewd_Cur"
      }
    }
  ]
}